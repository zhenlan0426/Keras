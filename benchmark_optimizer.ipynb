{
 "cells": [
  {
   "cell_type": "code",
   "execution_count": 1,
   "metadata": {},
   "outputs": [],
   "source": [
    "import time,os\n",
    "import numpy as np\n",
    "import cv2\n",
    "from tensorflow.keras import layers\n",
    "from tensorflow.keras import models\n",
    "from tensorflow.keras import optimizers\n",
    "import tensorflow.keras as keras\n",
    "from tensorflow.keras.preprocessing.image import ImageDataGenerator\n",
    "import matplotlib.pyplot as plt\n",
    "from util.plotting import plotHistory\n",
    "from util.augmentation_transforms import ImageNetPolicy\n",
    "from util.clr_callback import CyclicLR"
   ]
  },
  {
   "cell_type": "code",
   "execution_count": 2,
   "metadata": {},
   "outputs": [],
   "source": [
    "from tensorflow.keras.callbacks import ReduceLROnPlateau,EarlyStopping"
   ]
  },
  {
   "cell_type": "code",
   "execution_count": 3,
   "metadata": {},
   "outputs": [],
   "source": [
    "train_dir = 'train'\n",
    "val_dir = 'val'\n",
    "train_cat_dir = 'train/cat'\n",
    "train_dog_dir = 'train/dog'\n",
    "val_cat_dir = 'val/cat'\n",
    "val_dog_dir = 'val/dog'\n",
    "\n",
    "#os.mkdir(val_dir)\n",
    "#os.mkdir(train_cat_dir)\n",
    "#os.mkdir(train_dog_dir)\n",
    "#os.mkdir(val_cat_dir)\n",
    "#os.mkdir(val_dog_dir)"
   ]
  },
  {
   "cell_type": "code",
   "execution_count": null,
   "metadata": {},
   "outputs": [],
   "source": []
  },
  {
   "cell_type": "markdown",
   "metadata": {},
   "source": [
    "Build Model"
   ]
  },
  {
   "cell_type": "code",
   "execution_count": 4,
   "metadata": {},
   "outputs": [],
   "source": [
    "model = models.Sequential()\n",
    "model.add(layers.Conv2D(32, (3, 3), activation='relu',\n",
    "input_shape=(150, 150, 3)))\n",
    "model.add(layers.MaxPooling2D((2, 2)))\n",
    "model.add(layers.Conv2D(64, (3, 3), activation='relu'))\n",
    "model.add(layers.MaxPooling2D((2, 2)))\n",
    "model.add(layers.Conv2D(128, (3, 3), activation='relu'))\n",
    "model.add(layers.MaxPooling2D((2, 2)))\n",
    "model.add(layers.Conv2D(128, (3, 3), activation='relu'))\n",
    "model.add(layers.MaxPooling2D((2, 2)))\n",
    "model.add(layers.Flatten())\n",
    "model.add(layers.Dense(512, activation='relu'))\n",
    "model.add(layers.Dense(1, activation='sigmoid'))"
   ]
  },
  {
   "cell_type": "code",
   "execution_count": 5,
   "metadata": {},
   "outputs": [],
   "source": [
    "model.compile(loss='binary_crossentropy',\n",
    "optimizer=optimizers.Adam(),\n",
    "metrics=['acc'])"
   ]
  },
  {
   "cell_type": "code",
   "execution_count": 36,
   "metadata": {},
   "outputs": [],
   "source": [
    "model.compile(loss='binary_crossentropy',\n",
    "optimizer=optimizers.SGD(0.0001,0.9,nesterov=True),\n",
    "metrics=['acc'])"
   ]
  },
  {
   "cell_type": "code",
   "execution_count": 46,
   "metadata": {},
   "outputs": [],
   "source": [
    "model.compile(loss='binary_crossentropy',\n",
    "optimizer=optimizers.SGD(0.0001),\n",
    "metrics=['acc'])"
   ]
  },
  {
   "cell_type": "code",
   "execution_count": null,
   "metadata": {},
   "outputs": [],
   "source": []
  },
  {
   "cell_type": "markdown",
   "metadata": {},
   "source": [
    "Load data into numpy"
   ]
  },
  {
   "cell_type": "code",
   "execution_count": 6,
   "metadata": {},
   "outputs": [],
   "source": [
    "def load_imgs(folder_,size=(150,150)):\n",
    "    img_list = []\n",
    "    for file_ in os.listdir(folder_):\n",
    "        img_list.append(cv2.resize(cv2.imread(folder_+'/'+file_)[:,:,[2,1,0]],size))\n",
    "    return np.stack(img_list,0)"
   ]
  },
  {
   "cell_type": "code",
   "execution_count": 7,
   "metadata": {},
   "outputs": [],
   "source": [
    "train_X = np.concatenate([load_imgs(train_cat_dir),load_imgs(train_dog_dir)],0)"
   ]
  },
  {
   "cell_type": "code",
   "execution_count": 8,
   "metadata": {},
   "outputs": [],
   "source": [
    "train_y = np.concatenate([np.ones(10000),np.zeros(10000)],0)"
   ]
  },
  {
   "cell_type": "code",
   "execution_count": 9,
   "metadata": {},
   "outputs": [],
   "source": [
    "val_X = np.concatenate([load_imgs(val_cat_dir),load_imgs(val_dog_dir)],0)"
   ]
  },
  {
   "cell_type": "code",
   "execution_count": 10,
   "metadata": {},
   "outputs": [],
   "source": [
    "val_y = np.concatenate([np.ones(2500),np.zeros(2500)],0)"
   ]
  },
  {
   "cell_type": "code",
   "execution_count": null,
   "metadata": {},
   "outputs": [],
   "source": []
  },
  {
   "cell_type": "markdown",
   "metadata": {},
   "source": [
    "### Adam"
   ]
  },
  {
   "cell_type": "code",
   "execution_count": 11,
   "metadata": {},
   "outputs": [],
   "source": [
    "transform_fun = ImageNetPolicy()"
   ]
  },
  {
   "cell_type": "code",
   "execution_count": 12,
   "metadata": {},
   "outputs": [],
   "source": [
    "datagen = ImageDataGenerator(preprocessing_function=transform_fun)\n",
    "test_datagen = ImageDataGenerator(rescale=1./255)"
   ]
  },
  {
   "cell_type": "code",
   "execution_count": 13,
   "metadata": {},
   "outputs": [],
   "source": [
    "train_generator_inMem = datagen.flow(\n",
    "                                train_X,train_y,\n",
    "                                batch_size=50)"
   ]
  },
  {
   "cell_type": "code",
   "execution_count": 32,
   "metadata": {},
   "outputs": [],
   "source": [
    "val_generator_inMem = test_datagen.flow(\n",
    "                                val_X,val_y,\n",
    "                                batch_size=50,shuffle=False)"
   ]
  },
  {
   "cell_type": "code",
   "execution_count": 17,
   "metadata": {},
   "outputs": [],
   "source": [
    "val_predict = datagen.flow(val_X,val_y,batch_size=50,shuffle=False)"
   ]
  },
  {
   "cell_type": "code",
   "execution_count": 15,
   "metadata": {
    "scrolled": true
   },
   "outputs": [
    {
     "name": "stdout",
     "output_type": "stream",
     "text": [
      "Epoch 1/40\n",
      "400/400 [==============================] - 28s 71ms/step - loss: 0.6691 - acc: 0.5696 - val_loss: 0.5945 - val_acc: 0.6916\n",
      "Epoch 2/40\n",
      "400/400 [==============================] - 16s 40ms/step - loss: 0.5885 - acc: 0.6819 - val_loss: 0.5402 - val_acc: 0.7320\n",
      "Epoch 3/40\n",
      "400/400 [==============================] - 16s 39ms/step - loss: 0.5199 - acc: 0.7376 - val_loss: 0.4610 - val_acc: 0.7842\n",
      "Epoch 4/40\n",
      "400/400 [==============================] - 16s 40ms/step - loss: 0.4746 - acc: 0.7692 - val_loss: 0.4119 - val_acc: 0.8108\n",
      "Epoch 5/40\n",
      "400/400 [==============================] - 16s 40ms/step - loss: 0.4383 - acc: 0.7915 - val_loss: 0.3877 - val_acc: 0.8228\n",
      "Epoch 6/40\n",
      "400/400 [==============================] - 16s 39ms/step - loss: 0.4090 - acc: 0.8108 - val_loss: 0.3881 - val_acc: 0.8276\n",
      "Epoch 7/40\n",
      "400/400 [==============================] - 16s 40ms/step - loss: 0.3822 - acc: 0.8250 - val_loss: 0.3492 - val_acc: 0.8532\n",
      "Epoch 8/40\n",
      "400/400 [==============================] - 17s 43ms/step - loss: 0.3568 - acc: 0.8370 - val_loss: 0.3341 - val_acc: 0.8500\n",
      "Epoch 9/40\n",
      "400/400 [==============================] - 17s 42ms/step - loss: 0.3368 - acc: 0.8511 - val_loss: 0.3039 - val_acc: 0.8684\n",
      "Epoch 10/40\n",
      "400/400 [==============================] - 16s 41ms/step - loss: 0.3111 - acc: 0.8628 - val_loss: 0.2909 - val_acc: 0.8712\n",
      "Epoch 11/40\n",
      "400/400 [==============================] - 17s 42ms/step - loss: 0.2936 - acc: 0.8708 - val_loss: 0.2804 - val_acc: 0.8836\n",
      "Epoch 12/40\n",
      "400/400 [==============================] - 16s 41ms/step - loss: 0.2813 - acc: 0.8795 - val_loss: 0.3082 - val_acc: 0.8702\n",
      "Epoch 13/40\n",
      "400/400 [==============================] - 16s 40ms/step - loss: 0.2536 - acc: 0.8925 - val_loss: 0.2866 - val_acc: 0.8908\n",
      "Epoch 14/40\n",
      "400/400 [==============================] - 16s 40ms/step - loss: 0.2427 - acc: 0.8971 - val_loss: 0.2653 - val_acc: 0.8908\n",
      "Epoch 15/40\n",
      "400/400 [==============================] - 16s 41ms/step - loss: 0.2322 - acc: 0.9017 - val_loss: 0.2941 - val_acc: 0.8888\n",
      "Epoch 16/40\n",
      "400/400 [==============================] - 16s 41ms/step - loss: 0.1914 - acc: 0.9230 - val_loss: 0.2592 - val_acc: 0.8986\n",
      "Epoch 17/40\n",
      "400/400 [==============================] - 16s 41ms/step - loss: 0.1706 - acc: 0.9314 - val_loss: 0.2711 - val_acc: 0.8992\n",
      "Epoch 18/40\n",
      "400/400 [==============================] - 17s 42ms/step - loss: 0.1708 - acc: 0.9323 - val_loss: 0.2760 - val_acc: 0.8952\n",
      "Epoch 19/40\n",
      "400/400 [==============================] - 16s 41ms/step - loss: 0.1546 - acc: 0.9374 - val_loss: 0.2524 - val_acc: 0.9046\n",
      "Epoch 20/40\n",
      "400/400 [==============================] - 17s 41ms/step - loss: 0.1493 - acc: 0.9401 - val_loss: 0.2439 - val_acc: 0.9048\n",
      "Epoch 21/40\n",
      "400/400 [==============================] - 16s 40ms/step - loss: 0.1387 - acc: 0.9465 - val_loss: 0.2774 - val_acc: 0.9022\n",
      "Epoch 22/40\n",
      "400/400 [==============================] - 16s 40ms/step - loss: 0.1348 - acc: 0.9476 - val_loss: 0.2658 - val_acc: 0.9016\n",
      "Epoch 23/40\n",
      "400/400 [==============================] - 17s 42ms/step - loss: 0.1176 - acc: 0.9561 - val_loss: 0.2807 - val_acc: 0.9086\n",
      "Epoch 24/40\n",
      "400/400 [==============================] - 16s 41ms/step - loss: 0.1141 - acc: 0.9556 - val_loss: 0.2944 - val_acc: 0.8990\n",
      "Epoch 25/40\n",
      "400/400 [==============================] - 16s 41ms/step - loss: 0.1019 - acc: 0.9623 - val_loss: 0.2997 - val_acc: 0.9062\n",
      "Epoch 26/40\n",
      "400/400 [==============================] - 17s 42ms/step - loss: 0.0949 - acc: 0.9636 - val_loss: 0.2985 - val_acc: 0.9046\n",
      "Epoch 27/40\n",
      "400/400 [==============================] - 17s 43ms/step - loss: 0.0931 - acc: 0.9663 - val_loss: 0.2806 - val_acc: 0.9084\n",
      "time:452.8829882144928\n"
     ]
    }
   ],
   "source": [
    "start = time.time()\n",
    "history = model.fit_generator(\n",
    "          train_generator_inMem,\n",
    "          validation_data = val_generator_inMem,\n",
    "          steps_per_epoch=20000/50,\n",
    "          epochs=40,\n",
    "          callbacks=[ReduceLROnPlateau('val_acc',factor=0.5,patience=2),EarlyStopping('val_acc',patience=4)],\n",
    "          use_multiprocessing=True,workers=4,max_queue_size=100)\n",
    "end = time.time()\n",
    "print('time:{}'.format(end - start))"
   ]
  },
  {
   "cell_type": "code",
   "execution_count": 16,
   "metadata": {},
   "outputs": [
    {
     "data": {
      "image/png": "[encoded data removed]",
      "text/plain": [
       "<Figure size 432x288 with 1 Axes>"
      ]
     },
     "metadata": {
      "needs_background": "light"
     },
     "output_type": "display_data"
    },
    {
     "data": {
      "image/png": "[encoded data removed]",
      "text/plain": [
       "<Figure size 432x288 with 1 Axes>"
      ]
     },
     "metadata": {
      "needs_background": "light"
     },
     "output_type": "display_data"
    }
   ],
   "source": [
    "plotHistory(history)"
   ]
  },
  {
   "cell_type": "code",
   "execution_count": null,
   "metadata": {},
   "outputs": [],
   "source": []
  },
  {
   "cell_type": "markdown",
   "metadata": {},
   "source": [
    "TTA"
   ]
  },
  {
   "cell_type": "code",
   "execution_count": 65,
   "metadata": {},
   "outputs": [
    {
     "data": {
      "text/plain": [
       "0.9102"
      ]
     },
     "execution_count": 65,
     "metadata": {},
     "output_type": "execute_result"
    }
   ],
   "source": [
    "# avg of TTA and non-TTA\n",
    "accuracy_score(val_y,(yhat[:,-1] + model.predict_generator(val_generator_inMem)[:,0])>1)"
   ]
  },
  {
   "cell_type": "code",
   "execution_count": 38,
   "metadata": {},
   "outputs": [
    {
     "data": {
      "text/plain": [
       "0.9084"
      ]
     },
     "execution_count": 38,
     "metadata": {},
     "output_type": "execute_result"
    }
   ],
   "source": [
    "accuracy_score(val_y,yhat[:,0]>0.5) # wo TTA"
   ]
  },
  {
   "cell_type": "code",
   "execution_count": null,
   "metadata": {},
   "outputs": [],
   "source": []
  },
  {
   "cell_type": "code",
   "execution_count": 61,
   "metadata": {},
   "outputs": [],
   "source": [
    "repeat_time = 20\n",
    "yhat = [model.predict_generator(val_predict)[:,0] for _ in range(repeat_time)]\n",
    "yhat = np.stack(yhat,1)\n",
    "yhat = np.cumsum(yhat,1)/np.arange(1,repeat_time+1)"
   ]
  },
  {
   "cell_type": "code",
   "execution_count": 64,
   "metadata": {
    "scrolled": true
   },
   "outputs": [
    {
     "name": "stdout",
     "output_type": "stream",
     "text": [
      "[0.8876, 0.9008, 0.902, 0.9062, 0.9074, 0.9094, 0.9092, 0.9104, 0.9118, 0.912, 0.9106, 0.9114, 0.912, 0.912, 0.9126, 0.9138, 0.9132, 0.9136, 0.913, 0.9136]\n"
     ]
    },
    {
     "data": {
      "image/png": "[encoded data removed]",
      "text/plain": [
       "<Figure size 432x288 with 1 Axes>"
      ]
     },
     "metadata": {
      "needs_background": "light"
     },
     "output_type": "display_data"
    }
   ],
   "source": [
    "# TTA\n",
    "temp = [accuracy_score(val_y,yhat[:,i]>0.5) for i in range(20)]\n",
    "plt.plot(temp)\n",
    "print(temp)"
   ]
  },
  {
   "cell_type": "code",
   "execution_count": null,
   "metadata": {},
   "outputs": [],
   "source": []
  },
  {
   "cell_type": "code",
   "execution_count": null,
   "metadata": {},
   "outputs": [],
   "source": []
  },
  {
   "cell_type": "code",
   "execution_count": null,
   "metadata": {},
   "outputs": [],
   "source": []
  },
  {
   "cell_type": "markdown",
   "metadata": {},
   "source": [
    "Adam with triangular"
   ]
  },
  {
   "cell_type": "code",
   "execution_count": 37,
   "metadata": {
    "scrolled": false
   },
   "outputs": [
    {
     "name": "stdout",
     "output_type": "stream",
     "text": [
      "Epoch 1/40\n",
      "400/400 [==============================] - 18s 44ms/step - loss: 0.6763 - acc: 0.5752 - val_loss: 0.6280 - val_acc: 0.6558\n",
      "Epoch 2/40\n",
      "400/400 [==============================] - 17s 41ms/step - loss: 0.6241 - acc: 0.6477 - val_loss: 0.6000 - val_acc: 0.6732\n",
      "Epoch 3/40\n",
      "400/400 [==============================] - 17s 42ms/step - loss: 0.5591 - acc: 0.7137 - val_loss: 0.5168 - val_acc: 0.7454\n",
      "Epoch 4/40\n",
      "400/400 [==============================] - 17s 42ms/step - loss: 0.5107 - acc: 0.7489 - val_loss: 0.4559 - val_acc: 0.7790\n",
      "Epoch 5/40\n",
      "400/400 [==============================] - 17s 41ms/step - loss: 0.4969 - acc: 0.7558 - val_loss: 0.4425 - val_acc: 0.7928\n",
      "Epoch 6/40\n",
      "400/400 [==============================] - 16s 41ms/step - loss: 0.4627 - acc: 0.7761 - val_loss: 0.4101 - val_acc: 0.8110\n",
      "Epoch 7/40\n",
      "400/400 [==============================] - 17s 42ms/step - loss: 0.4115 - acc: 0.8097 - val_loss: 0.3928 - val_acc: 0.8246\n",
      "Epoch 8/40\n",
      "400/400 [==============================] - 17s 43ms/step - loss: 0.3556 - acc: 0.8394 - val_loss: 0.3368 - val_acc: 0.8520\n",
      "Epoch 9/40\n",
      "400/400 [==============================] - 17s 42ms/step - loss: 0.2937 - acc: 0.8725 - val_loss: 0.2918 - val_acc: 0.8758\n",
      "Epoch 10/40\n",
      "400/400 [==============================] - 17s 42ms/step - loss: 0.2418 - acc: 0.8983 - val_loss: 0.2718 - val_acc: 0.8860\n",
      "Epoch 11/40\n",
      "400/400 [==============================] - 16s 41ms/step - loss: 0.2130 - acc: 0.9124 - val_loss: 0.2929 - val_acc: 0.8768\n",
      "Epoch 12/40\n",
      "400/400 [==============================] - 17s 42ms/step - loss: 0.2261 - acc: 0.9057 - val_loss: 0.3014 - val_acc: 0.8728\n",
      "Epoch 13/40\n",
      "400/400 [==============================] - 18s 44ms/step - loss: 0.2561 - acc: 0.8898 - val_loss: 0.3121 - val_acc: 0.8616\n",
      "Epoch 14/40\n",
      "400/400 [==============================] - 17s 42ms/step - loss: 0.2740 - acc: 0.8827 - val_loss: 0.3423 - val_acc: 0.8528\n",
      "Epoch 15/40\n",
      "400/400 [==============================] - 17s 42ms/step - loss: 0.2835 - acc: 0.8763 - val_loss: 0.3223 - val_acc: 0.8624\n",
      "Epoch 16/40\n",
      "400/400 [==============================] - 17s 43ms/step - loss: 0.2865 - acc: 0.8760 - val_loss: 0.3321 - val_acc: 0.8642\n",
      "Epoch 17/40\n",
      "400/400 [==============================] - 17s 42ms/step - loss: 0.2404 - acc: 0.8985 - val_loss: 0.2919 - val_acc: 0.8824\n",
      "Epoch 18/40\n",
      "400/400 [==============================] - 17s 42ms/step - loss: 0.1944 - acc: 0.9207 - val_loss: 0.3193 - val_acc: 0.8822\n",
      "time:304.26586723327637\n"
     ]
    }
   ],
   "source": [
    "start = time.time()\n",
    "history = model.fit_generator(\n",
    "          train_generator_inMem,\n",
    "          validation_data = val_generator_inMem,\n",
    "          steps_per_epoch=20000/50,\n",
    "          epochs=40,\n",
    "          callbacks=[CyclicLR(0.002,0.09,mode='exp_range',gamma=0.9999),EarlyStopping('val_acc',patience=8)],\n",
    "          use_multiprocessing=True,workers=4,max_queue_size=100)\n",
    "end = time.time()\n",
    "print('time:{}'.format(end - start))"
   ]
  },
  {
   "cell_type": "code",
   "execution_count": null,
   "metadata": {},
   "outputs": [],
   "source": []
  },
  {
   "cell_type": "code",
   "execution_count": 34,
   "metadata": {},
   "outputs": [
    {
     "data": {
      "image/png": "[encoded data removed]",
      "text/plain": [
       "<Figure size 432x288 with 1 Axes>"
      ]
     },
     "metadata": {
      "needs_background": "light"
     },
     "output_type": "display_data"
    },
    {
     "data": {
      "image/png": "[encoded data removed]",
      "text/plain": [
       "<Figure size 432x288 with 1 Axes>"
      ]
     },
     "metadata": {
      "needs_background": "light"
     },
     "output_type": "display_data"
    }
   ],
   "source": [
    "plotHistory(history)"
   ]
  },
  {
   "cell_type": "code",
   "execution_count": null,
   "metadata": {},
   "outputs": [],
   "source": []
  },
  {
   "cell_type": "markdown",
   "metadata": {},
   "source": [
    "### SGD + triangular learning decay"
   ]
  },
  {
   "cell_type": "code",
   "execution_count": null,
   "metadata": {},
   "outputs": [],
   "source": []
  },
  {
   "cell_type": "code",
   "execution_count": 63,
   "metadata": {
    "scrolled": true
   },
   "outputs": [
    {
     "name": "stdout",
     "output_type": "stream",
     "text": [
      "Epoch 1/40\n",
      "400/400 [==============================] - 21s 53ms/step - loss: 0.6905 - acc: 0.5410 - val_loss: 0.6864 - val_acc: 0.6100\n",
      "Epoch 2/40\n",
      "400/400 [==============================] - 20s 50ms/step - loss: 0.6786 - acc: 0.5795 - val_loss: 0.6617 - val_acc: 0.6326\n",
      "Epoch 3/40\n",
      "400/400 [==============================] - 20s 50ms/step - loss: 0.6646 - acc: 0.5970 - val_loss: 0.6467 - val_acc: 0.6424\n",
      "Epoch 4/40\n",
      "400/400 [==============================] - 21s 53ms/step - loss: 0.6440 - acc: 0.6228 - val_loss: 0.5997 - val_acc: 0.7004\n",
      "Epoch 5/40\n",
      "400/400 [==============================] - 21s 53ms/step - loss: 0.6113 - acc: 0.6613 - val_loss: 0.5571 - val_acc: 0.7292\n",
      "Epoch 6/40\n",
      "400/400 [==============================] - 21s 52ms/step - loss: 0.5673 - acc: 0.7029 - val_loss: 0.5619 - val_acc: 0.7112\n",
      "Epoch 7/40\n",
      "400/400 [==============================] - 20s 50ms/step - loss: 0.5344 - acc: 0.7288 - val_loss: 0.5094 - val_acc: 0.7598\n",
      "Epoch 8/40\n",
      "400/400 [==============================] - 20s 50ms/step - loss: 0.5058 - acc: 0.7529 - val_loss: 0.4724 - val_acc: 0.7780\n",
      "Epoch 9/40\n",
      "400/400 [==============================] - 20s 50ms/step - loss: 0.4869 - acc: 0.7631 - val_loss: 0.4455 - val_acc: 0.7898\n",
      "Epoch 10/40\n",
      "400/400 [==============================] - 20s 50ms/step - loss: 0.4692 - acc: 0.7786 - val_loss: 0.4415 - val_acc: 0.7926\n",
      "Epoch 11/40\n",
      "400/400 [==============================] - 20s 50ms/step - loss: 0.4637 - acc: 0.7780 - val_loss: 0.4358 - val_acc: 0.8008\n",
      "Epoch 12/40\n",
      "400/400 [==============================] - 21s 52ms/step - loss: 0.4639 - acc: 0.7822 - val_loss: 0.4530 - val_acc: 0.7878\n",
      "Epoch 13/40\n",
      "400/400 [==============================] - 21s 53ms/step - loss: 0.4654 - acc: 0.7792 - val_loss: 0.4332 - val_acc: 0.7968\n",
      "Epoch 14/40\n",
      "400/400 [==============================] - 20s 51ms/step - loss: 0.4629 - acc: 0.7786 - val_loss: 0.4524 - val_acc: 0.7870\n",
      "Epoch 15/40\n",
      "400/400 [==============================] - 21s 53ms/step - loss: 0.4535 - acc: 0.7843 - val_loss: 0.4261 - val_acc: 0.8046\n",
      "Epoch 16/40\n",
      "400/400 [==============================] - 20s 51ms/step - loss: 0.4361 - acc: 0.7960 - val_loss: 0.4183 - val_acc: 0.7970\n",
      "Epoch 17/40\n",
      "400/400 [==============================] - 20s 51ms/step - loss: 0.4069 - acc: 0.8131 - val_loss: 0.3732 - val_acc: 0.8266\n",
      "Epoch 18/40\n",
      "400/400 [==============================] - 20s 51ms/step - loss: 0.3829 - acc: 0.8271 - val_loss: 0.3639 - val_acc: 0.8340\n",
      "Epoch 19/40\n",
      "400/400 [==============================] - 21s 52ms/step - loss: 0.3599 - acc: 0.8383 - val_loss: 0.3484 - val_acc: 0.8402\n",
      "Epoch 20/40\n",
      "400/400 [==============================] - 21s 53ms/step - loss: 0.3360 - acc: 0.8538 - val_loss: 0.3275 - val_acc: 0.8508\n",
      "Epoch 21/40\n",
      "400/400 [==============================] - 20s 51ms/step - loss: 0.3282 - acc: 0.8557 - val_loss: 0.3568 - val_acc: 0.8350\n",
      "Epoch 22/40\n",
      "400/400 [==============================] - 20s 51ms/step - loss: 0.3393 - acc: 0.8499 - val_loss: 0.3404 - val_acc: 0.8492\n",
      "Epoch 23/40\n",
      "400/400 [==============================] - 21s 54ms/step - loss: 0.3436 - acc: 0.8505 - val_loss: 0.3379 - val_acc: 0.8470\n",
      "Epoch 24/40\n",
      "400/400 [==============================] - 21s 53ms/step - loss: 0.3454 - acc: 0.8442 - val_loss: 0.3536 - val_acc: 0.8410\n",
      "Epoch 25/40\n",
      "400/400 [==============================] - 21s 52ms/step - loss: 0.3403 - acc: 0.8491 - val_loss: 0.3432 - val_acc: 0.8544\n",
      "Epoch 26/40\n",
      "400/400 [==============================] - 21s 53ms/step - loss: 0.3212 - acc: 0.8567 - val_loss: 0.3078 - val_acc: 0.8686\n",
      "Epoch 27/40\n",
      "400/400 [==============================] - 20s 50ms/step - loss: 0.2872 - acc: 0.8754 - val_loss: 0.3062 - val_acc: 0.8672\n",
      "Epoch 28/40\n",
      "400/400 [==============================] - 20s 51ms/step - loss: 0.2664 - acc: 0.8871 - val_loss: 0.2972 - val_acc: 0.8736\n",
      "Epoch 29/40\n",
      "400/400 [==============================] - 20s 51ms/step - loss: 0.2363 - acc: 0.9021 - val_loss: 0.3059 - val_acc: 0.8692\n",
      "Epoch 30/40\n",
      "400/400 [==============================] - 21s 52ms/step - loss: 0.2124 - acc: 0.9139 - val_loss: 0.2814 - val_acc: 0.8836\n",
      "Epoch 31/40\n",
      "400/400 [==============================] - 20s 51ms/step - loss: 0.2079 - acc: 0.9172 - val_loss: 0.2818 - val_acc: 0.8826\n",
      "Epoch 32/40\n",
      "400/400 [==============================] - 21s 53ms/step - loss: 0.2180 - acc: 0.9117 - val_loss: 0.2882 - val_acc: 0.8778\n",
      "Epoch 33/40\n",
      "400/400 [==============================] - 21s 52ms/step - loss: 0.2351 - acc: 0.9025 - val_loss: 0.3053 - val_acc: 0.8722\n",
      "Epoch 34/40\n",
      "400/400 [==============================] - 20s 51ms/step - loss: 0.2391 - acc: 0.8999 - val_loss: 0.3492 - val_acc: 0.8554\n",
      "Epoch 35/40\n",
      "400/400 [==============================] - 20s 50ms/step - loss: 0.2446 - acc: 0.8986 - val_loss: 0.3211 - val_acc: 0.8696\n",
      "Epoch 36/40\n",
      "400/400 [==============================] - 21s 51ms/step - loss: 0.2300 - acc: 0.9031 - val_loss: 0.2933 - val_acc: 0.8812\n",
      "time:743.9725613594055\n"
     ]
    }
   ],
   "source": [
    "start = time.time()\n",
    "history = model.fit_generator(\n",
    "          train_generator_inMem,\n",
    "          validation_data = val_generator_inMem,\n",
    "          steps_per_epoch=20000/50,\n",
    "          epochs=40,\n",
    "          callbacks=[CyclicLR(0.0005,0.005,mode='triangular'),EarlyStopping('val_acc',patience=6)],\n",
    "          use_multiprocessing=True,workers=4,max_queue_size=100)\n",
    "end = time.time()\n",
    "print('time:{}'.format(end - start))"
   ]
  },
  {
   "cell_type": "code",
   "execution_count": 44,
   "metadata": {},
   "outputs": [
    {
     "data": {
      "image/png": "[encoded data removed]",
      "text/plain": [
       "<Figure size 432x288 with 1 Axes>"
      ]
     },
     "metadata": {
      "needs_background": "light"
     },
     "output_type": "display_data"
    },
    {
     "data": {
      "image/png": "[encoded data removed]",
      "text/plain": [
       "<Figure size 432x288 with 1 Axes>"
      ]
     },
     "metadata": {
      "needs_background": "light"
     },
     "output_type": "display_data"
    }
   ],
   "source": [
    "plotHistory(history)"
   ]
  },
  {
   "cell_type": "code",
   "execution_count": null,
   "metadata": {},
   "outputs": [],
   "source": []
  }
 ],
 "metadata": {
  "kernelspec": {
   "display_name": "Python 3",
   "language": "python",
   "name": "python3"
  },
  "language_info": {
   "codemirror_mode": {
    "name": "ipython",
    "version": 3
   },
   "file_extension": ".py",
   "mimetype": "text/x-python",
   "name": "python",
   "nbconvert_exporter": "python",
   "pygments_lexer": "ipython3",
   "version": "3.6.6"
  }
 },
 "nbformat": 4,
 "nbformat_minor": 2
}
