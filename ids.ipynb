{
  "cells": [
    {
      "metadata": {
        "_uuid": "8f2839f25d086af736a60e9eeb907d3b93b6e0e5",
        "_cell_guid": "b1076dfc-b9ad-4769-8c92-a6c4dae69d19",
        "trusted": true
      },
      "cell_type": "code",
      "source": "# This Python 3 environment comes with many helpful analytics libraries installed\n# It is defined by the kaggle/python docker image: https://github.com/kaggle/docker-python\n# For example, here's several helpful packages to load in \n\nimport numpy as np # linear algebra\nimport pandas as pd # data processing, CSV file I/O (e.g. pd.read_csv)\n\n# Input data files are available in the \"../input/\" directory.\n# For example, running this (by clicking run or pressing Shift+Enter) will list the files in the input directory\n\nimport os, pickle\n#print(os.listdir(\"../input\"))\n\n# Any results you write to the current directory are saved as output.",
      "execution_count": 43,
      "outputs": []
    },
    {
      "metadata": {
        "trusted": true,
        "_uuid": "7daa7884a68af7cc6051b7ebc9d479a84b74fa37"
      },
      "cell_type": "code",
      "source": "ids = pd.read_csv('../input/train.csv')",
      "execution_count": 3,
      "outputs": []
    },
    {
      "metadata": {
        "trusted": true,
        "_uuid": "dc53ce89aa180dba965ae5aa73c0d8b8a4b131f3"
      },
      "cell_type": "code",
      "source": "dict_ = ids.groupby(['Id']).apply(lambda x:list(x.Image)).to_dict()",
      "execution_count": 18,
      "outputs": []
    },
    {
      "metadata": {
        "trusted": true,
        "_uuid": "ab701822caf514efa31e0031c2fbe02805bf8634"
      },
      "cell_type": "code",
      "source": "with open('ids.pkl', 'wb') as f:\n    pickle.dump(dict_, f)",
      "execution_count": 44,
      "outputs": []
    },
    {
      "metadata": {
        "trusted": true,
        "_uuid": "48524ac177cdabf7aac02bc1a111fd1af011d2fc"
      },
      "cell_type": "code",
      "source": "with open('ids.pkl', 'rb') as f:\n    d2 = pickle.load(f)",
      "execution_count": 46,
      "outputs": []
    },
    {
      "metadata": {
        "trusted": true,
        "_uuid": "c8cde0fe32b617266944c2b9ac1c76d7037cc0aa"
      },
      "cell_type": "code",
      "source": "import pandas as pd
dict_ = pd.read_csv('../input/train.csv').groupby(['Id']).apply(lambda x:list(x.Image)).reset_index()
dict_.columns = ['Id', 'Imgs']
dict_['length'] = [len(imgs) for imgs in dict_.Imgs.tolist()]",
      "execution_count": 48,
      "outputs": [
        {
          "output_type": "execute_result",
          "execution_count": 48,
          "data": {
            "text/plain": "True"
          },
          "metadata": {}
        }
      ]
    },
    {
      "metadata": {
        "trusted": true,
        "_uuid": "08a053f851cba5b87a4a73cd823a1076d6f9d476"
      },
      "cell_type": "code",
      "source": "",
      "execution_count": null,
      "outputs": []
    }
  ],
  "metadata": {
    "kernelspec": {
      "display_name": "Python 3",
      "language": "python",
      "name": "python3"
    },
    "language_info": {
      "name": "python",
      "version": "3.6.6",
      "mimetype": "text/x-python",
      "codemirror_mode": {
        "name": "ipython",
        "version": 3
      },
      "pygments_lexer": "ipython3",
      "nbconvert_exporter": "python",
      "file_extension": ".py"
    }
  },
  "nbformat": 4,
  "nbformat_minor": 1
}
