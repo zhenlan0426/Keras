{
 "cells": [
  {
   "cell_type": "code",
   "execution_count": 4,
   "metadata": {
    "_cell_guid": "254c3396-e731-4541-b367-ee6ab54ff45c",
    "_uuid": "9c54c856e89328b8ea2913456d9a4bef6cb447ac"
   },
   "outputs": [],
   "source": [
    "import cv2\n",
    "import numpy as np\n",
    "from skimage import data\n",
    "import matplotlib.pyplot as plt\n",
    "import skimage"
   ]
  },
  {
   "cell_type": "code",
   "execution_count": 9,
   "metadata": {
    "_uuid": "2a8c0b738e9e0ee9ce6e81ba4a9a577c38998f96"
   },
   "outputs": [],
   "source": [
    "img = data.astronaut()"
   ]
  },
  {
   "cell_type": "code",
   "execution_count": 10,
   "metadata": {
    "_cell_guid": "42b1cf3f-5665-4ea8-862f-5fb0c89853af",
    "_uuid": "df1cf71d4b15da091e4326be68bf13dc0f4a7bb3"
   },
   "outputs": [],
   "source": [
    "skimage.io.imsave('img.png',img)"
   ]
  },
  {
   "cell_type": "code",
   "execution_count": 11,
   "metadata": {
    "_uuid": "1d3763eccc201fe1b95a44eafd87c8670a574aa5"
   },
   "outputs": [],
   "source": [
    "img_cv = cv2.imread('img.png',cv2.IMREAD_UNCHANGED)"
   ]
  },
  {
   "cell_type": "code",
   "execution_count": 12,
   "metadata": {
    "_uuid": "4b64999e3ad510ffd9430a6076e584164b489ee6"
   },
   "outputs": [
    {
     "data": {
      "text/plain": [
       "0.0"
      ]
     },
     "execution_count": 12,
     "metadata": {},
     "output_type": "execute_result"
    }
   ],
   "source": [
    "np.mean(np.abs(img-img_cv[:,:,::-1]))"
   ]
  },
  {
   "cell_type": "code",
   "execution_count": 13,
   "metadata": {
    "_uuid": "9ed1f254a133c6fdb734a1cb38bc0001826cc2d9"
   },
   "outputs": [
    {
     "data": {
      "text/plain": [
       "True"
      ]
     },
     "execution_count": 13,
     "metadata": {},
     "output_type": "execute_result"
    }
   ],
   "source": [
    "cv2.imwrite('img.jpg', img_cv)"
   ]
  },
  {
   "cell_type": "code",
   "execution_count": 14,
   "metadata": {
    "_uuid": "6e39030b6bcfd984c63f091f8b87edf9571f4a2f"
   },
   "outputs": [],
   "source": [
    "img_jpeg = cv2.imread('img.jpg',cv2.IMREAD_UNCHANGED)"
   ]
  },
  {
   "cell_type": "code",
   "execution_count": 18,
   "metadata": {
    "_uuid": "b4af506f48caec2108acfb392472aebe018745d3",
    "scrolled": true
   },
   "outputs": [
    {
     "data": {
      "text/plain": [
       "94.49695078531902"
      ]
     },
     "execution_count": 18,
     "metadata": {},
     "output_type": "execute_result"
    }
   ],
   "source": [
    "np.mean(np.abs(img_jpeg[:,:,::-1]-img))"
   ]
  },
  {
   "cell_type": "code",
   "execution_count": 19,
   "metadata": {
    "_uuid": "32b833602ac78a684a41d8d13cf5992ebc7557f8"
   },
   "outputs": [],
   "source": [
    "np.save('img.npy',img)"
   ]
  },
  {
   "cell_type": "code",
   "execution_count": 20,
   "metadata": {
    "_uuid": "5fca29444bfdff32263811b2156a624b064f8d80"
   },
   "outputs": [
    {
     "name": "stdout",
     "output_type": "stream",
     "text": [
      "223 µs ± 2.6 µs per loop (mean ± std. dev. of 7 runs, 1000 loops each)\n"
     ]
    }
   ],
   "source": [
    "%timeit np.load('img.npy')"
   ]
  },
  {
   "cell_type": "code",
   "execution_count": 21,
   "metadata": {
    "_uuid": "aeeb02a3fea14702eef9d4a845c8fcd0f174cf90"
   },
   "outputs": [
    {
     "name": "stdout",
     "output_type": "stream",
     "text": [
      "5.61 ms ± 18.1 µs per loop (mean ± std. dev. of 7 runs, 100 loops each)\n"
     ]
    }
   ],
   "source": [
    "%timeit cv2.imread('img.png',cv2.IMREAD_UNCHANGED)"
   ]
  },
  {
   "cell_type": "code",
   "execution_count": 22,
   "metadata": {
    "_uuid": "f95b0055fab1cc192b39e0f567805f06568524c8"
   },
   "outputs": [
    {
     "name": "stdout",
     "output_type": "stream",
     "text": [
      "2.14 ms ± 17 µs per loop (mean ± std. dev. of 7 runs, 100 loops each)\n"
     ]
    }
   ],
   "source": [
    "%timeit cv2.imread('img.jpg',cv2.IMREAD_UNCHANGED)"
   ]
  },
  {
   "cell_type": "code",
   "execution_count": 23,
   "metadata": {
    "_uuid": "9c9c7996f415216a4883e8d3ebf65a80a734092d"
   },
   "outputs": [
    {
     "name": "stdout",
     "output_type": "stream",
     "text": [
      "total 833340\r\n",
      "-rw-r--r-- 1 will will 851576569 Nov 25 21:59 \u001b[0m\u001b[01;31mall.zip\u001b[0m\r\n",
      "-rw-r--r-- 1 will will     99308 Dec  1 16:34 \u001b[01;35mimg.jpg\u001b[0m\r\n",
      "-rw-r--r-- 1 will will    786560 Dec  1 16:35 img.npy\r\n",
      "-rw-r--r-- 1 will will    424520 Dec  1 16:34 \u001b[01;35mimg.png\u001b[0m\r\n",
      "-rw-r--r-- 1 will will    410551 Nov 25 21:50 \u001b[01;31mKeras-master.zip\u001b[0m\r\n",
      "-rw-r--r-- 1 will will      6878 Dec  1 16:36 kernel.ipynb\r\n",
      "-rw-r--r-- 1 will will      3297 Nov 25 21:06 \u001b[01;31mtensorflow-gpu-1.12.0-h0d30ee6_0.tar.bz2\u001b[0m\r\n"
     ]
    }
   ],
   "source": [
    "ls -l"
   ]
  },
  {
   "cell_type": "code",
   "execution_count": null,
   "metadata": {
    "_uuid": "12f3fcd02d2aae1ac67d4937f156b8f162cef773"
   },
   "outputs": [],
   "source": []
  },
  {
   "cell_type": "markdown",
   "metadata": {
    "_uuid": "087c7b0153aec1618be040c23e66ac1d2cfbaf50"
   },
   "source": [
    "Load chunks"
   ]
  },
  {
   "cell_type": "code",
   "execution_count": 24,
   "metadata": {
    "_uuid": "49599bb30e874e27ffc5b0d707766cec9c0c95d9"
   },
   "outputs": [],
   "source": [
    "block = np.tile(img,(500,1,1))"
   ]
  },
  {
   "cell_type": "code",
   "execution_count": 25,
   "metadata": {
    "_uuid": "fed1ab7f801b9a64ca8d4172077f38902341c71e"
   },
   "outputs": [],
   "source": [
    "np.save('img.npy',img)"
   ]
  },
  {
   "cell_type": "code",
   "execution_count": 26,
   "metadata": {
    "_uuid": "5dde2020a4aac2504e983a4bd10f736a3fed9018"
   },
   "outputs": [],
   "source": [
    "np.save('chunks.npy',block)"
   ]
  },
  {
   "cell_type": "code",
   "execution_count": 27,
   "metadata": {
    "_uuid": "656cedfdd2972915333780e529734dc893eb4c5d"
   },
   "outputs": [
    {
     "name": "stdout",
     "output_type": "stream",
     "text": [
      "225 µs ± 3.86 µs per loop (mean ± std. dev. of 7 runs, 1000 loops each)\n"
     ]
    }
   ],
   "source": [
    "%timeit np.load('img.npy')"
   ]
  },
  {
   "cell_type": "code",
   "execution_count": 28,
   "metadata": {
    "_uuid": "f33c67662abb5f95ce618248c315cbba0cb96f92"
   },
   "outputs": [],
   "source": [
    "import time"
   ]
  },
  {
   "cell_type": "code",
   "execution_count": 29,
   "metadata": {
    "_uuid": "09664b98716674349fe0fbb6ffef5241f3d11ccd"
   },
   "outputs": [],
   "source": [
    "time_lst = []\n",
    "time_step = 1000\n",
    "for i in range(1,time_step):\n",
    "    block = np.tile(img,(i,1,1))\n",
    "    np.save('chunks.npy',block)\n",
    "    t0=time.time()\n",
    "    for _ in range(10):\n",
    "        _ = np.load('chunks.npy')\n",
    "    time_lst.append(time.time()-t0)"
   ]
  },
  {
   "cell_type": "code",
   "execution_count": 30,
   "metadata": {
    "_uuid": "3ec69011c4187c6b433d0affdcce4a6fb14eff31"
   },
   "outputs": [
    {
     "data": {
      "text/plain": [
       "[<matplotlib.lines.Line2D at 0x7f8a43076320>,\n",
       " <matplotlib.lines.Line2D at 0x7f8a43076470>]"
      ]
     },
     "execution_count": 30,
     "metadata": {},
     "output_type": "execute_result"
    },
    {
     "data": {
      "image/png": "[encoded data removed]",
      "text/plain": [
       "<Figure size 432x288 with 1 Axes>"
      ]
     },
     "metadata": {
      "needs_background": "light"
     },
     "output_type": "display_data"
    }
   ],
   "source": [
    "plt.plot(np.arange(1,time_step),time_lst,np.arange(1,time_step),time_lst[0]*np.arange(1,time_step))"
   ]
  },
  {
   "cell_type": "code",
   "execution_count": null,
   "metadata": {
    "_uuid": "38d79381b77169d29abf8c59ec8c35bb422c8dba"
   },
   "outputs": [],
   "source": []
  }
 ],
 "metadata": {
  "kernelspec": {
   "display_name": "Python 3",
   "language": "python",
   "name": "python3"
  },
  "language_info": {
   "codemirror_mode": {
    "name": "ipython",
    "version": 3
   },
   "file_extension": ".py",
   "mimetype": "text/x-python",
   "name": "python",
   "nbconvert_exporter": "python",
   "pygments_lexer": "ipython3",
   "version": "3.6.6"
  }
 },
 "nbformat": 4,
 "nbformat_minor": 1
}
