{
 "cells": [
  {
   "cell_type": "markdown",
   "metadata": {},
   "source": [
    "12/1/2018\n",
    "1. test different quantile (50,75,95,max) among scores from same ID\n",
    "2. Add vs inner product (test different inner product) vs Norm\n",
    "   - constant/modeled weighted avg\n",
    "3. TTA for IDs with less images\n",
    "4. different size images, color and gray\n",
    " - keep aspect ratio"
   ]
  },
  {
   "cell_type": "markdown",
   "metadata": {},
   "source": [
    "12/2/2018\n",
    "1. color to gray and sum first layer kernal weight along input dim\n",
    "2. "
   ]
  },
  {
   "cell_type": "code",
   "execution_count": null,
   "metadata": {},
   "outputs": [],
   "source": []
  }
 ],
 "metadata": {
  "kernelspec": {
   "display_name": "Python 3",
   "language": "python",
   "name": "python3"
  },
  "language_info": {
   "codemirror_mode": {
    "name": "ipython",
    "version": 3
   },
   "file_extension": ".py",
   "mimetype": "text/x-python",
   "name": "python",
   "nbconvert_exporter": "python",
   "pygments_lexer": "ipython3",
   "version": "3.6.6"
  }
 },
 "nbformat": 4,
 "nbformat_minor": 2
}
